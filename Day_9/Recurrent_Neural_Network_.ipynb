{
  "nbformat": 4,
  "nbformat_minor": 0,
  "metadata": {
    "colab": {
      "name": " Recurrent Neural Network .ipynb",
      "provenance": [],
      "collapsed_sections": [],
      "include_colab_link": true
    },
    "kernelspec": {
      "name": "python3",
      "display_name": "Python 3"
    },
    "accelerator": "TPU",
    "gpuClass": "standard"
  },
  "cells": [
    {
      "cell_type": "markdown",
      "metadata": {
        "id": "view-in-github",
        "colab_type": "text"
      },
      "source": [
        "<a href=\"https://colab.research.google.com/github/ashutosh00009/MACHINE-LEARNING-SUMMER-TRAINING/blob/main/Day_9/Recurrent_Neural_Network_.ipynb\" target=\"_parent\"><img src=\"https://colab.research.google.com/assets/colab-badge.svg\" alt=\"Open In Colab\"/></a>"
      ]
    },
    {
      "cell_type": "markdown",
      "metadata": {
        "id": "xpAuMVCwfWs8"
      },
      "source": [
        "# Recurrent Neural Network"
      ]
    },
    {
      "cell_type": "markdown",
      "metadata": {
        "id": "nxJfRe4bfYVA"
      },
      "source": [
        "## Part 1 - Data Preprocessing"
      ]
    },
    {
      "cell_type": "markdown",
      "metadata": {
        "id": "ir9zwETrfbrp"
      },
      "source": [
        "### Importing the libraries"
      ]
    },
    {
      "cell_type": "code",
      "metadata": {
        "id": "ZT1f24vHffuf"
      },
      "source": [
        "import numpy as np\n",
        "import matplotlib.pyplot as plt\n",
        "import pandas as pd"
      ],
      "execution_count": 4,
      "outputs": []
    },
    {
      "cell_type": "markdown",
      "metadata": {
        "id": "nQ47JAxrgmaL"
      },
      "source": [
        "### Importing the training set"
      ]
    },
    {
      "cell_type": "code",
      "metadata": {
        "id": "1xiv3pJOgqY3"
      },
      "source": [
        "dataset_train = pd.read_csv('/content/Google_Stock_Price_Train.csv')\n",
        "training_set = dataset_train.iloc[:, 1:2].values"
      ],
      "execution_count": 6,
      "outputs": []
    },
    {
      "cell_type": "markdown",
      "metadata": {
        "id": "HT8_2UJegtG5"
      },
      "source": [
        "### Feature Scaling"
      ]
    },
    {
      "cell_type": "code",
      "metadata": {
        "id": "OTrF2kR7gx9x"
      },
      "source": [
        "from sklearn.preprocessing import MinMaxScaler\n",
        "sc = MinMaxScaler(feature_range = (0, 1))\n",
        "training_set_scaled = sc.fit_transform(training_set)"
      ],
      "execution_count": 7,
      "outputs": []
    },
    {
      "cell_type": "markdown",
      "metadata": {
        "id": "JyYgYocqhNUg"
      },
      "source": [
        "### Creating a data structure with 60 timesteps and 1 output"
      ]
    },
    {
      "cell_type": "code",
      "metadata": {
        "id": "iofU21B0i6ST"
      },
      "source": [
        "X_train = []\n",
        "y_train = []\n",
        "for i in range(200, 1258):\n",
        "    X_train.append(training_set_scaled[i-200:i, 0])\n",
        "    y_train.append(training_set_scaled[i, 0])\n",
        "X_train, y_train = np.array(X_train), np.array(y_train)"
      ],
      "execution_count": 8,
      "outputs": []
    },
    {
      "cell_type": "markdown",
      "metadata": {
        "id": "D8yaN7Zvi95l"
      },
      "source": [
        "### Reshaping"
      ]
    },
    {
      "cell_type": "code",
      "metadata": {
        "id": "FOXqJHmNjBkz"
      },
      "source": [
        "X_train = np.reshape(X_train, (X_train.shape[0], X_train.shape[1], 1))"
      ],
      "execution_count": 9,
      "outputs": []
    },
    {
      "cell_type": "markdown",
      "metadata": {
        "id": "ZRRSOJeVjEWV"
      },
      "source": [
        "## Part 2 - Building and Training the RNN"
      ]
    },
    {
      "cell_type": "markdown",
      "metadata": {
        "id": "k4XV88JMjHXG"
      },
      "source": [
        "### Importing the Keras libraries and packages"
      ]
    },
    {
      "cell_type": "code",
      "metadata": {
        "id": "9JRnqsxEjKsD"
      },
      "source": [
        "from keras.models import Sequential\n",
        "from keras.layers import Dense\n",
        "from keras.layers import LSTM\n",
        "from keras.layers import Dropout"
      ],
      "execution_count": 10,
      "outputs": []
    },
    {
      "cell_type": "markdown",
      "metadata": {
        "id": "FEIE-1s9jNzC"
      },
      "source": [
        "### Initialising the RNN"
      ]
    },
    {
      "cell_type": "code",
      "metadata": {
        "id": "1338dJ0UjRKH"
      },
      "source": [
        "regressor = Sequential()"
      ],
      "execution_count": 11,
      "outputs": []
    },
    {
      "cell_type": "markdown",
      "metadata": {
        "id": "62eg1OPGjT8z"
      },
      "source": [
        "### Adding the first LSTM layer and some Dropout regularisation"
      ]
    },
    {
      "cell_type": "code",
      "metadata": {
        "id": "2hIinyXUjbVU"
      },
      "source": [
        "regressor.add(LSTM(units = 50, return_sequences = True, input_shape = (X_train.shape[1], 1)))\n",
        "regressor.add(Dropout(0.2))"
      ],
      "execution_count": 12,
      "outputs": []
    },
    {
      "cell_type": "markdown",
      "metadata": {
        "id": "3XBIYLyOjlMx"
      },
      "source": [
        "### Adding a second LSTM layer and some Dropout regularisation"
      ]
    },
    {
      "cell_type": "code",
      "metadata": {
        "id": "UG7nrVaSjuZ2"
      },
      "source": [
        "regressor.add(LSTM(units = 50, return_sequences = True))\n",
        "regressor.add(Dropout(0.2))"
      ],
      "execution_count": 13,
      "outputs": []
    },
    {
      "cell_type": "markdown",
      "metadata": {
        "id": "Ey3fHVnGj1cu"
      },
      "source": [
        "### Adding a third LSTM layer and some Dropout regularisation"
      ]
    },
    {
      "cell_type": "code",
      "metadata": {
        "id": "PuNi6PgFj7jO"
      },
      "source": [
        "regressor.add(LSTM(units = 50, return_sequences = True))\n",
        "regressor.add(Dropout(0.2))"
      ],
      "execution_count": 14,
      "outputs": []
    },
    {
      "cell_type": "markdown",
      "metadata": {
        "id": "SYTrtfTmj933"
      },
      "source": [
        "### Adding a fourth LSTM layer and some Dropout regularisation"
      ]
    },
    {
      "cell_type": "code",
      "metadata": {
        "id": "Jp4Ty8fRkBYV"
      },
      "source": [
        "regressor.add(LSTM(units = 50))\n",
        "regressor.add(Dropout(0.2))"
      ],
      "execution_count": 15,
      "outputs": []
    },
    {
      "cell_type": "markdown",
      "metadata": {
        "id": "9ABI6rOIkHhk"
      },
      "source": [
        "### Adding the output layer"
      ]
    },
    {
      "cell_type": "code",
      "metadata": {
        "id": "aM6R1z4WkME8"
      },
      "source": [
        "regressor.add(Dense(units = 1))"
      ],
      "execution_count": 16,
      "outputs": []
    },
    {
      "cell_type": "markdown",
      "metadata": {
        "id": "zLx4K7uUkPSh"
      },
      "source": [
        "### Compiling the RNN"
      ]
    },
    {
      "cell_type": "code",
      "metadata": {
        "id": "XTrhVN-tkbko"
      },
      "source": [
        "regressor.compile(optimizer = 'adam', loss = 'mean_squared_error')"
      ],
      "execution_count": 17,
      "outputs": []
    },
    {
      "cell_type": "markdown",
      "metadata": {
        "id": "-mPhwKGkkebi"
      },
      "source": [
        "### Fitting the RNN to the Training set"
      ]
    },
    {
      "cell_type": "code",
      "metadata": {
        "id": "I06Nkrz5kkb-",
        "colab": {
          "base_uri": "https://localhost:8080/"
        },
        "outputId": "4d123602-7a76-4b25-ed74-fc0b58a7678d"
      },
      "source": [
        "regressor.fit(X_train, y_train, epochs = 50, batch_size = 16)"
      ],
      "execution_count": 20,
      "outputs": [
        {
          "output_type": "stream",
          "name": "stdout",
          "text": [
            "Epoch 1/50\n",
            "67/67 [==============================] - 23s 350ms/step - loss: 0.0041\n",
            "Epoch 2/50\n",
            "67/67 [==============================] - 24s 361ms/step - loss: 0.0047\n",
            "Epoch 3/50\n",
            "67/67 [==============================] - 24s 354ms/step - loss: 0.0041\n",
            "Epoch 4/50\n",
            "67/67 [==============================] - 23s 349ms/step - loss: 0.0048\n",
            "Epoch 5/50\n",
            "67/67 [==============================] - 25s 366ms/step - loss: 0.0034\n",
            "Epoch 6/50\n",
            "67/67 [==============================] - 23s 347ms/step - loss: 0.0031\n",
            "Epoch 7/50\n",
            "67/67 [==============================] - 23s 343ms/step - loss: 0.0030\n",
            "Epoch 8/50\n",
            "67/67 [==============================] - 23s 344ms/step - loss: 0.0033\n",
            "Epoch 9/50\n",
            "67/67 [==============================] - 23s 340ms/step - loss: 0.0031\n",
            "Epoch 10/50\n",
            "67/67 [==============================] - 23s 342ms/step - loss: 0.0032\n",
            "Epoch 11/50\n",
            "67/67 [==============================] - 23s 344ms/step - loss: 0.0031\n",
            "Epoch 12/50\n",
            "67/67 [==============================] - 23s 350ms/step - loss: 0.0026\n",
            "Epoch 13/50\n",
            "67/67 [==============================] - 23s 344ms/step - loss: 0.0030\n",
            "Epoch 14/50\n",
            "67/67 [==============================] - 23s 345ms/step - loss: 0.0026\n",
            "Epoch 15/50\n",
            "67/67 [==============================] - 23s 347ms/step - loss: 0.0026\n",
            "Epoch 16/50\n",
            "67/67 [==============================] - 23s 347ms/step - loss: 0.0030\n",
            "Epoch 17/50\n",
            "67/67 [==============================] - 23s 341ms/step - loss: 0.0029\n",
            "Epoch 18/50\n",
            "67/67 [==============================] - 23s 340ms/step - loss: 0.0027\n",
            "Epoch 19/50\n",
            "67/67 [==============================] - 23s 347ms/step - loss: 0.0028\n",
            "Epoch 20/50\n",
            "67/67 [==============================] - 23s 346ms/step - loss: 0.0025\n",
            "Epoch 21/50\n",
            "67/67 [==============================] - 23s 348ms/step - loss: 0.0027\n",
            "Epoch 22/50\n",
            "67/67 [==============================] - 23s 342ms/step - loss: 0.0025\n",
            "Epoch 23/50\n",
            "67/67 [==============================] - 23s 347ms/step - loss: 0.0025\n",
            "Epoch 24/50\n",
            "67/67 [==============================] - 23s 342ms/step - loss: 0.0024\n",
            "Epoch 25/50\n",
            "67/67 [==============================] - 23s 341ms/step - loss: 0.0022\n",
            "Epoch 26/50\n",
            "67/67 [==============================] - 23s 341ms/step - loss: 0.0022\n",
            "Epoch 27/50\n",
            "67/67 [==============================] - 23s 341ms/step - loss: 0.0022\n",
            "Epoch 28/50\n",
            "67/67 [==============================] - 23s 345ms/step - loss: 0.0023\n",
            "Epoch 29/50\n",
            "67/67 [==============================] - 23s 342ms/step - loss: 0.0021\n",
            "Epoch 30/50\n",
            "67/67 [==============================] - 23s 343ms/step - loss: 0.0021\n",
            "Epoch 31/50\n",
            "67/67 [==============================] - 23s 340ms/step - loss: 0.0020\n",
            "Epoch 32/50\n",
            "67/67 [==============================] - 23s 343ms/step - loss: 0.0018\n",
            "Epoch 33/50\n",
            "67/67 [==============================] - 23s 340ms/step - loss: 0.0021\n",
            "Epoch 34/50\n",
            "67/67 [==============================] - 23s 342ms/step - loss: 0.0022\n",
            "Epoch 35/50\n",
            "67/67 [==============================] - 23s 339ms/step - loss: 0.0021\n",
            "Epoch 36/50\n",
            "67/67 [==============================] - 23s 340ms/step - loss: 0.0020\n",
            "Epoch 37/50\n",
            "67/67 [==============================] - 23s 341ms/step - loss: 0.0018\n",
            "Epoch 38/50\n",
            "67/67 [==============================] - 23s 340ms/step - loss: 0.0020\n",
            "Epoch 39/50\n",
            "67/67 [==============================] - 24s 353ms/step - loss: 0.0017\n",
            "Epoch 40/50\n",
            "67/67 [==============================] - 23s 348ms/step - loss: 0.0017\n",
            "Epoch 41/50\n",
            "67/67 [==============================] - 23s 343ms/step - loss: 0.0018\n",
            "Epoch 42/50\n",
            "67/67 [==============================] - 23s 348ms/step - loss: 0.0018\n",
            "Epoch 43/50\n",
            "67/67 [==============================] - 34s 509ms/step - loss: 0.0019\n",
            "Epoch 44/50\n",
            "67/67 [==============================] - 24s 358ms/step - loss: 0.0017\n",
            "Epoch 45/50\n",
            "67/67 [==============================] - 23s 344ms/step - loss: 0.0016\n",
            "Epoch 46/50\n",
            "67/67 [==============================] - 23s 346ms/step - loss: 0.0015\n",
            "Epoch 47/50\n",
            "67/67 [==============================] - 24s 366ms/step - loss: 0.0016\n",
            "Epoch 48/50\n",
            "67/67 [==============================] - 23s 347ms/step - loss: 0.0016\n",
            "Epoch 49/50\n",
            "67/67 [==============================] - 24s 355ms/step - loss: 0.0017\n",
            "Epoch 50/50\n",
            "67/67 [==============================] - 24s 359ms/step - loss: 0.0017\n"
          ]
        },
        {
          "output_type": "execute_result",
          "data": {
            "text/plain": [
              "<keras.callbacks.History at 0x7f169b61df90>"
            ]
          },
          "metadata": {},
          "execution_count": 20
        }
      ]
    },
    {
      "cell_type": "markdown",
      "metadata": {
        "id": "4hRau_lIkrE8"
      },
      "source": [
        "## Part 3 - Making the predictions and visualising the results"
      ]
    },
    {
      "cell_type": "markdown",
      "metadata": {
        "id": "SgJO6qEDksxD"
      },
      "source": [
        "### Getting the real stock price of 2017"
      ]
    },
    {
      "cell_type": "code",
      "metadata": {
        "id": "FmBT2zqukxTz"
      },
      "source": [
        "dataset_test = pd.read_csv('/content/Google_Stock_Price_Test.csv')\n",
        "real_stock_price = dataset_test.iloc[:, 1:2].values"
      ],
      "execution_count": 21,
      "outputs": []
    },
    {
      "cell_type": "markdown",
      "metadata": {
        "id": "GrvrLblxkz42"
      },
      "source": [
        "### Getting the predicted stock price of 2017"
      ]
    },
    {
      "cell_type": "code",
      "metadata": {
        "id": "emikTvUpk3Ck"
      },
      "source": [
        "dataset_total = pd.concat((dataset_train['Open'], dataset_test['Open']), axis = 0)\n",
        "inputs = dataset_total[len(dataset_total) - len(dataset_test) - 200:].values\n",
        "inputs = inputs.reshape(-1,1)\n",
        "inputs = sc.transform(inputs)\n",
        "X_test = []\n",
        "for i in range(200, 220):\n",
        "    X_test.append(inputs[i-200:i, 0])\n",
        "X_test = np.array(X_test)\n",
        "X_test = np.reshape(X_test, (X_test.shape[0], X_test.shape[1], 1))\n",
        "predicted_stock_price = regressor.predict(X_test)\n",
        "predicted_stock_price = sc.inverse_transform(predicted_stock_price)"
      ],
      "execution_count": 23,
      "outputs": []
    },
    {
      "cell_type": "markdown",
      "metadata": {
        "id": "iFTNs3YHk6FQ"
      },
      "source": [
        "### Visualising the results"
      ]
    },
    {
      "cell_type": "code",
      "metadata": {
        "id": "8OUI8U49k9tH",
        "colab": {
          "base_uri": "https://localhost:8080/",
          "height": 295
        },
        "outputId": "252c4da8-e1ce-400a-95e6-c37e9b941b7c"
      },
      "source": [
        "plt.plot(real_stock_price, color = 'red', label = 'Real Google Stock Price')\n",
        "plt.plot(predicted_stock_price, color = 'blue', label = 'Predicted Google Stock Price')\n",
        "plt.title('Google Stock Price Prediction')\n",
        "plt.xlabel('Time')\n",
        "plt.ylabel('Google Stock Price')\n",
        "plt.legend()\n",
        "plt.show()"
      ],
      "execution_count": 24,
      "outputs": [
        {
          "output_type": "display_data",
          "data": {
            "text/plain": [
              "<Figure size 432x288 with 1 Axes>"
            ],
            "image/png": "[encoded data removed]"
          },
          "metadata": {
            "needs_background": "light"
          }
        }
      ]
    }
  ]
}