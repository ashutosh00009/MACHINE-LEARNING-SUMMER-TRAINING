{
  "nbformat": 4,
  "nbformat_minor": 0,
  "metadata": {
    "colab": {
      "name": " artificial_neural_network.ipynb",
      "provenance": [],
      "collapsed_sections": [],
      "include_colab_link": true
    },
    "kernelspec": {
      "name": "python3",
      "display_name": "Python 3"
    },
    "accelerator": "TPU",
    "gpuClass": "standard"
  },
  "cells": [
    {
      "cell_type": "markdown",
      "metadata": {
        "id": "view-in-github",
        "colab_type": "text"
      },
      "source": [
        "<a href=\"https://colab.research.google.com/github/ashutosh00009/MACHINE-LEARNING-SUMMER-TRAINING/blob/main/Day_6/artificial_neural_network.ipynb\" target=\"_parent\"><img src=\"https://colab.research.google.com/assets/colab-badge.svg\" alt=\"Open In Colab\"/></a>"
      ]
    },
    {
      "cell_type": "markdown",
      "metadata": {
        "id": "lP6JLo1tGNBg"
      },
      "source": [
        "# Artificial Neural Network"
      ]
    },
    {
      "cell_type": "markdown",
      "metadata": {
        "id": "gWZyYmS_UE_L"
      },
      "source": [
        "### Importing the libraries"
      ]
    },
    {
      "cell_type": "code",
      "metadata": {
        "id": "MxkJoQBkUIHC"
      },
      "source": [
        "import numpy as np\n",
        "import pandas as pd\n",
        "import tensorflow as tf"
      ],
      "execution_count": 5,
      "outputs": []
    },
    {
      "cell_type": "code",
      "metadata": {
        "id": "ZaTwK7ojXr2F",
        "outputId": "aa761e21-8770-4ccc-82b7-3a33d0ee905d",
        "colab": {
          "base_uri": "https://localhost:8080/",
          "height": 36
        }
      },
      "source": [
        "tf.__version__"
      ],
      "execution_count": 6,
      "outputs": [
        {
          "output_type": "execute_result",
          "data": {
            "text/plain": [
              "'2.8.2'"
            ],
            "application/vnd.google.colaboratory.intrinsic+json": {
              "type": "string"
            }
          },
          "metadata": {},
          "execution_count": 6
        }
      ]
    },
    {
      "cell_type": "markdown",
      "metadata": {
        "id": "1E0Q3aoKUCRX"
      },
      "source": [
        "## Part 1 - Data Preprocessing"
      ]
    },
    {
      "cell_type": "markdown",
      "metadata": {
        "id": "cKWAkFVGUU0Z"
      },
      "source": [
        "### Importing the dataset"
      ]
    },
    {
      "cell_type": "code",
      "metadata": {
        "id": "MXUkhkMfU4wq"
      },
      "source": [
        "dataset = pd.read_csv('/content/sample_data/Churn_Modelling.csv')\n",
        "X = dataset.iloc[:, 3:-1].values\n",
        "y = dataset.iloc[:, -1].values"
      ],
      "execution_count": 7,
      "outputs": []
    },
    {
      "cell_type": "code",
      "metadata": {
        "id": "VYP9cQTWbzuI",
        "outputId": "df56dd88-a242-4eec-92c3-4131b205c398",
        "colab": {
          "base_uri": "https://localhost:8080/"
        }
      },
      "source": [
        "print(X)"
      ],
      "execution_count": 8,
      "outputs": [
        {
          "output_type": "stream",
          "name": "stdout",
          "text": [
            "[[619 'France' 'Female' ... 1 1 101348.88]\n",
            " [608 'Spain' 'Female' ... 0 1 112542.58]\n",
            " [502 'France' 'Female' ... 1 0 113931.57]\n",
            " ...\n",
            " [709 'France' 'Female' ... 0 1 42085.58]\n",
            " [772 'Germany' 'Male' ... 1 0 92888.52]\n",
            " [792 'France' 'Female' ... 1 0 38190.78]]\n"
          ]
        }
      ]
    },
    {
      "cell_type": "code",
      "metadata": {
        "id": "38vKGE6Nb2RR",
        "outputId": "61f5a558-99ad-406a-f559-d408a7789f90",
        "colab": {
          "base_uri": "https://localhost:8080/"
        }
      },
      "source": [
        "print(y)"
      ],
      "execution_count": 9,
      "outputs": [
        {
          "output_type": "stream",
          "name": "stdout",
          "text": [
            "[1 0 1 ... 1 1 0]\n"
          ]
        }
      ]
    },
    {
      "cell_type": "markdown",
      "metadata": {
        "id": "N6bQ0UgSU-NJ"
      },
      "source": [
        "### Encoding categorical data"
      ]
    },
    {
      "cell_type": "markdown",
      "metadata": {
        "id": "le5MJreAbW52"
      },
      "source": [
        "Label Encoding the \"Gender\" column"
      ]
    },
    {
      "cell_type": "code",
      "metadata": {
        "id": "PxVKWXxLbczC"
      },
      "source": [
        "from sklearn.preprocessing import LabelEncoder\n",
        "le = LabelEncoder()\n",
        "X[:, 2] = le.fit_transform(X[:, 2])"
      ],
      "execution_count": 10,
      "outputs": []
    },
    {
      "cell_type": "code",
      "metadata": {
        "id": "-M1KboxFb6OO",
        "outputId": "8a5111a7-d1c1-41e9-8939-a55cadc6bf8e",
        "colab": {
          "base_uri": "https://localhost:8080/"
        }
      },
      "source": [
        "print(X)"
      ],
      "execution_count": 11,
      "outputs": [
        {
          "output_type": "stream",
          "name": "stdout",
          "text": [
            "[[619 'France' 0 ... 1 1 101348.88]\n",
            " [608 'Spain' 0 ... 0 1 112542.58]\n",
            " [502 'France' 0 ... 1 0 113931.57]\n",
            " ...\n",
            " [709 'France' 0 ... 0 1 42085.58]\n",
            " [772 'Germany' 1 ... 1 0 92888.52]\n",
            " [792 'France' 0 ... 1 0 38190.78]]\n"
          ]
        }
      ]
    },
    {
      "cell_type": "markdown",
      "metadata": {
        "id": "CUxGZezpbMcb"
      },
      "source": [
        "One Hot Encoding the \"Geography\" column"
      ]
    },
    {
      "cell_type": "code",
      "metadata": {
        "id": "AMXC8-KMVirw"
      },
      "source": [
        "from sklearn.compose import ColumnTransformer\n",
        "from sklearn.preprocessing import OneHotEncoder\n",
        "ct = ColumnTransformer(transformers=[('encoder', OneHotEncoder(), [1])], remainder='passthrough')\n",
        "X = np.array(ct.fit_transform(X))"
      ],
      "execution_count": 12,
      "outputs": []
    },
    {
      "cell_type": "code",
      "metadata": {
        "id": "ZcxwEon-b8nV",
        "outputId": "1db08c4a-76be-4450-8fb8-a744e6f5a7b3",
        "colab": {
          "base_uri": "https://localhost:8080/"
        }
      },
      "source": [
        "print(X)"
      ],
      "execution_count": 13,
      "outputs": [
        {
          "output_type": "stream",
          "name": "stdout",
          "text": [
            "[[1.0 0.0 0.0 ... 1 1 101348.88]\n",
            " [0.0 0.0 1.0 ... 0 1 112542.58]\n",
            " [1.0 0.0 0.0 ... 1 0 113931.57]\n",
            " ...\n",
            " [1.0 0.0 0.0 ... 0 1 42085.58]\n",
            " [0.0 1.0 0.0 ... 1 0 92888.52]\n",
            " [1.0 0.0 0.0 ... 1 0 38190.78]]\n"
          ]
        }
      ]
    },
    {
      "cell_type": "markdown",
      "metadata": {
        "id": "vHol938cW8zd"
      },
      "source": [
        "### Splitting the dataset into the Training set and Test set"
      ]
    },
    {
      "cell_type": "code",
      "metadata": {
        "id": "Z-TDt0Y_XEfc"
      },
      "source": [
        "from sklearn.model_selection import train_test_split\n",
        "X_train, X_test, y_train, y_test = train_test_split(X, y, test_size = 0.2, random_state = 0)"
      ],
      "execution_count": 14,
      "outputs": []
    },
    {
      "cell_type": "markdown",
      "metadata": {
        "id": "RE_FcHyfV3TQ"
      },
      "source": [
        "### Feature Scaling"
      ]
    },
    {
      "cell_type": "code",
      "metadata": {
        "id": "ViCrE00rV8Sk"
      },
      "source": [
        "from sklearn.preprocessing import StandardScaler\n",
        "sc = StandardScaler()\n",
        "X_train = sc.fit_transform(X_train)\n",
        "X_test = sc.transform(X_test)"
      ],
      "execution_count": 15,
      "outputs": []
    },
    {
      "cell_type": "markdown",
      "metadata": {
        "id": "-zfEzkRVXIwF"
      },
      "source": [
        "## Part 2 - Building the ANN"
      ]
    },
    {
      "cell_type": "markdown",
      "metadata": {
        "id": "KvdeScabXtlB"
      },
      "source": [
        "### Initializing the ANN"
      ]
    },
    {
      "cell_type": "code",
      "metadata": {
        "id": "3dtrScHxXQox"
      },
      "source": [
        "ann = tf.keras.models.Sequential()"
      ],
      "execution_count": 16,
      "outputs": []
    },
    {
      "cell_type": "markdown",
      "metadata": {
        "id": "rP6urV6SX7kS"
      },
      "source": [
        "### Adding the input layer and the first hidden layer"
      ]
    },
    {
      "cell_type": "code",
      "metadata": {
        "id": "bppGycBXYCQr"
      },
      "source": [
        "ann.add(tf.keras.layers.Dense(units=6, activation='relu'))"
      ],
      "execution_count": 17,
      "outputs": []
    },
    {
      "cell_type": "markdown",
      "metadata": {
        "id": "BELWAc_8YJze"
      },
      "source": [
        "### Adding the second hidden layer"
      ]
    },
    {
      "cell_type": "code",
      "metadata": {
        "id": "JneR0u0sYRTd"
      },
      "source": [
        "ann.add(tf.keras.layers.Dense(units=6, activation='relu'))"
      ],
      "execution_count": 25,
      "outputs": []
    },
    {
      "cell_type": "markdown",
      "metadata": {
        "id": "OyNEe6RXYcU4"
      },
      "source": [
        "### Adding the output layer"
      ]
    },
    {
      "cell_type": "code",
      "metadata": {
        "id": "Cn3x41RBYfvY"
      },
      "source": [
        "ann.add(tf.keras.layers.Dense(units=1, activation='sigmoid'))"
      ],
      "execution_count": 26,
      "outputs": []
    },
    {
      "cell_type": "markdown",
      "metadata": {
        "id": "JT4u2S1_Y4WG"
      },
      "source": [
        "## Part 3 - Training the ANN"
      ]
    },
    {
      "cell_type": "markdown",
      "metadata": {
        "id": "8GWlJChhY_ZI"
      },
      "source": [
        "### Compiling the ANN"
      ]
    },
    {
      "cell_type": "code",
      "metadata": {
        "id": "fG3RrwDXZEaS"
      },
      "source": [
        "ann.compile(optimizer = 'adam', loss = 'binary_crossentropy', metrics = ['accuracy'])"
      ],
      "execution_count": 28,
      "outputs": []
    },
    {
      "cell_type": "markdown",
      "metadata": {
        "id": "0QR_G5u7ZLSM"
      },
      "source": [
        "### Training the ANN on the Training set"
      ]
    },
    {
      "cell_type": "code",
      "metadata": {
        "id": "nHZ-LKv_ZRb3",
        "outputId": "f3469b72-7a48-44d0-d11d-7ed2c18377ad",
        "colab": {
          "base_uri": "https://localhost:8080/"
        }
      },
      "source": [
        "ann.fit(X_train, y_train, batch_size = 12, epochs = 200)"
      ],
      "execution_count": 32,
      "outputs": [
        {
          "output_type": "stream",
          "name": "stdout",
          "text": [
            "Epoch 1/200\n",
            "667/667 [==============================] - 2s 2ms/step - loss: 0.4030 - accuracy: 0.8426\n",
            "Epoch 2/200\n",
            "667/667 [==============================] - 1s 2ms/step - loss: 0.4037 - accuracy: 0.8399\n",
            "Epoch 3/200\n",
            "667/667 [==============================] - 2s 2ms/step - loss: 0.4029 - accuracy: 0.8396\n",
            "Epoch 4/200\n",
            "667/667 [==============================] - 1s 2ms/step - loss: 0.4020 - accuracy: 0.8416\n",
            "Epoch 5/200\n",
            "667/667 [==============================] - 2s 2ms/step - loss: 0.4022 - accuracy: 0.8411\n",
            "Epoch 6/200\n",
            "667/667 [==============================] - 1s 2ms/step - loss: 0.4018 - accuracy: 0.8399\n",
            "Epoch 7/200\n",
            "667/667 [==============================] - 1s 2ms/step - loss: 0.4021 - accuracy: 0.8413\n",
            "Epoch 8/200\n",
            "667/667 [==============================] - 1s 2ms/step - loss: 0.4017 - accuracy: 0.8404\n",
            "Epoch 9/200\n",
            "667/667 [==============================] - 1s 2ms/step - loss: 0.4019 - accuracy: 0.8420\n",
            "Epoch 10/200\n",
            "667/667 [==============================] - 1s 2ms/step - loss: 0.4018 - accuracy: 0.8399\n",
            "Epoch 11/200\n",
            "667/667 [==============================] - 2s 2ms/step - loss: 0.4013 - accuracy: 0.8425\n",
            "Epoch 12/200\n",
            "667/667 [==============================] - 1s 2ms/step - loss: 0.4010 - accuracy: 0.8413\n",
            "Epoch 13/200\n",
            "667/667 [==============================] - 1s 2ms/step - loss: 0.4010 - accuracy: 0.8419\n",
            "Epoch 14/200\n",
            "667/667 [==============================] - 1s 2ms/step - loss: 0.4001 - accuracy: 0.8419\n",
            "Epoch 15/200\n",
            "667/667 [==============================] - 1s 2ms/step - loss: 0.4004 - accuracy: 0.8411\n",
            "Epoch 16/200\n",
            "667/667 [==============================] - 1s 2ms/step - loss: 0.3998 - accuracy: 0.8411\n",
            "Epoch 17/200\n",
            "667/667 [==============================] - 1s 2ms/step - loss: 0.4002 - accuracy: 0.8425\n",
            "Epoch 18/200\n",
            "667/667 [==============================] - 1s 2ms/step - loss: 0.3997 - accuracy: 0.8414\n",
            "Epoch 19/200\n",
            "667/667 [==============================] - 2s 2ms/step - loss: 0.3994 - accuracy: 0.8416\n",
            "Epoch 20/200\n",
            "667/667 [==============================] - 1s 2ms/step - loss: 0.3989 - accuracy: 0.8416\n",
            "Epoch 21/200\n",
            "667/667 [==============================] - 1s 2ms/step - loss: 0.3991 - accuracy: 0.8418\n",
            "Epoch 22/200\n",
            "667/667 [==============================] - 1s 2ms/step - loss: 0.3990 - accuracy: 0.8405\n",
            "Epoch 23/200\n",
            "667/667 [==============================] - 1s 2ms/step - loss: 0.3989 - accuracy: 0.8406\n",
            "Epoch 24/200\n",
            "667/667 [==============================] - 1s 2ms/step - loss: 0.3979 - accuracy: 0.8413\n",
            "Epoch 25/200\n",
            "667/667 [==============================] - 1s 2ms/step - loss: 0.3967 - accuracy: 0.8430\n",
            "Epoch 26/200\n",
            "667/667 [==============================] - 1s 2ms/step - loss: 0.3956 - accuracy: 0.8409\n",
            "Epoch 27/200\n",
            "667/667 [==============================] - 1s 2ms/step - loss: 0.3903 - accuracy: 0.8405\n",
            "Epoch 28/200\n",
            "667/667 [==============================] - 1s 2ms/step - loss: 0.3827 - accuracy: 0.8456\n",
            "Epoch 29/200\n",
            "667/667 [==============================] - 1s 2ms/step - loss: 0.3749 - accuracy: 0.8497\n",
            "Epoch 30/200\n",
            "667/667 [==============================] - 2s 2ms/step - loss: 0.3673 - accuracy: 0.8525\n",
            "Epoch 31/200\n",
            "667/667 [==============================] - 2s 3ms/step - loss: 0.3616 - accuracy: 0.8545\n",
            "Epoch 32/200\n",
            "667/667 [==============================] - 2s 4ms/step - loss: 0.3585 - accuracy: 0.8572\n",
            "Epoch 33/200\n",
            "667/667 [==============================] - 1s 2ms/step - loss: 0.3555 - accuracy: 0.8580\n",
            "Epoch 34/200\n",
            "667/667 [==============================] - 2s 2ms/step - loss: 0.3535 - accuracy: 0.8591\n",
            "Epoch 35/200\n",
            "667/667 [==============================] - 1s 2ms/step - loss: 0.3521 - accuracy: 0.8584\n",
            "Epoch 36/200\n",
            "667/667 [==============================] - 1s 2ms/step - loss: 0.3503 - accuracy: 0.8587\n",
            "Epoch 37/200\n",
            "667/667 [==============================] - 1s 2ms/step - loss: 0.3496 - accuracy: 0.8585\n",
            "Epoch 38/200\n",
            "667/667 [==============================] - 1s 2ms/step - loss: 0.3483 - accuracy: 0.8585\n",
            "Epoch 39/200\n",
            "667/667 [==============================] - 1s 2ms/step - loss: 0.3474 - accuracy: 0.8600\n",
            "Epoch 40/200\n",
            "667/667 [==============================] - 1s 2ms/step - loss: 0.3461 - accuracy: 0.8600\n",
            "Epoch 41/200\n",
            "667/667 [==============================] - 1s 2ms/step - loss: 0.3455 - accuracy: 0.8634\n",
            "Epoch 42/200\n",
            "667/667 [==============================] - 1s 2ms/step - loss: 0.3455 - accuracy: 0.8608\n",
            "Epoch 43/200\n",
            "667/667 [==============================] - 1s 2ms/step - loss: 0.3445 - accuracy: 0.8635\n",
            "Epoch 44/200\n",
            "667/667 [==============================] - 1s 2ms/step - loss: 0.3438 - accuracy: 0.8611\n",
            "Epoch 45/200\n",
            "667/667 [==============================] - 1s 2ms/step - loss: 0.3434 - accuracy: 0.8615\n",
            "Epoch 46/200\n",
            "667/667 [==============================] - 1s 2ms/step - loss: 0.3431 - accuracy: 0.8644\n",
            "Epoch 47/200\n",
            "667/667 [==============================] - 2s 2ms/step - loss: 0.3415 - accuracy: 0.8636\n",
            "Epoch 48/200\n",
            "667/667 [==============================] - 1s 2ms/step - loss: 0.3414 - accuracy: 0.8619\n",
            "Epoch 49/200\n",
            "667/667 [==============================] - 1s 2ms/step - loss: 0.3409 - accuracy: 0.8629\n",
            "Epoch 50/200\n",
            "667/667 [==============================] - 1s 2ms/step - loss: 0.3410 - accuracy: 0.8609\n",
            "Epoch 51/200\n",
            "667/667 [==============================] - 2s 2ms/step - loss: 0.3397 - accuracy: 0.8618\n",
            "Epoch 52/200\n",
            "667/667 [==============================] - 1s 2ms/step - loss: 0.3391 - accuracy: 0.8618\n",
            "Epoch 53/200\n",
            "667/667 [==============================] - 1s 2ms/step - loss: 0.3399 - accuracy: 0.8643\n",
            "Epoch 54/200\n",
            "667/667 [==============================] - 1s 2ms/step - loss: 0.3384 - accuracy: 0.8621\n",
            "Epoch 55/200\n",
            "667/667 [==============================] - 1s 2ms/step - loss: 0.3388 - accuracy: 0.8622\n",
            "Epoch 56/200\n",
            "667/667 [==============================] - 2s 2ms/step - loss: 0.3377 - accuracy: 0.8648\n",
            "Epoch 57/200\n",
            "667/667 [==============================] - 1s 2ms/step - loss: 0.3381 - accuracy: 0.8637\n",
            "Epoch 58/200\n",
            "667/667 [==============================] - 1s 2ms/step - loss: 0.3382 - accuracy: 0.8635\n",
            "Epoch 59/200\n",
            "667/667 [==============================] - 1s 2ms/step - loss: 0.3375 - accuracy: 0.8655\n",
            "Epoch 60/200\n",
            "667/667 [==============================] - 2s 3ms/step - loss: 0.3370 - accuracy: 0.8627\n",
            "Epoch 61/200\n",
            "667/667 [==============================] - 1s 2ms/step - loss: 0.3367 - accuracy: 0.8612\n",
            "Epoch 62/200\n",
            "667/667 [==============================] - 2s 2ms/step - loss: 0.3366 - accuracy: 0.8656\n",
            "Epoch 63/200\n",
            "667/667 [==============================] - 2s 3ms/step - loss: 0.3371 - accuracy: 0.8627\n",
            "Epoch 64/200\n",
            "667/667 [==============================] - 1s 2ms/step - loss: 0.3369 - accuracy: 0.8634\n",
            "Epoch 65/200\n",
            "667/667 [==============================] - 1s 2ms/step - loss: 0.3351 - accuracy: 0.8645\n",
            "Epoch 66/200\n",
            "667/667 [==============================] - 1s 2ms/step - loss: 0.3362 - accuracy: 0.8631\n",
            "Epoch 67/200\n",
            "667/667 [==============================] - 1s 2ms/step - loss: 0.3357 - accuracy: 0.8648\n",
            "Epoch 68/200\n",
            "667/667 [==============================] - 1s 2ms/step - loss: 0.3359 - accuracy: 0.8639\n",
            "Epoch 69/200\n",
            "667/667 [==============================] - 1s 2ms/step - loss: 0.3354 - accuracy: 0.8651\n",
            "Epoch 70/200\n",
            "667/667 [==============================] - 1s 2ms/step - loss: 0.3350 - accuracy: 0.8640\n",
            "Epoch 71/200\n",
            "667/667 [==============================] - 1s 2ms/step - loss: 0.3358 - accuracy: 0.8630\n",
            "Epoch 72/200\n",
            "667/667 [==============================] - 1s 2ms/step - loss: 0.3355 - accuracy: 0.8631\n",
            "Epoch 73/200\n",
            "667/667 [==============================] - 1s 2ms/step - loss: 0.3354 - accuracy: 0.8643\n",
            "Epoch 74/200\n",
            "667/667 [==============================] - 1s 2ms/step - loss: 0.3354 - accuracy: 0.8643\n",
            "Epoch 75/200\n",
            "667/667 [==============================] - 1s 2ms/step - loss: 0.3351 - accuracy: 0.8636\n",
            "Epoch 76/200\n",
            "667/667 [==============================] - 1s 2ms/step - loss: 0.3360 - accuracy: 0.8629\n",
            "Epoch 77/200\n",
            "667/667 [==============================] - 1s 2ms/step - loss: 0.3353 - accuracy: 0.8637\n",
            "Epoch 78/200\n",
            "667/667 [==============================] - 1s 2ms/step - loss: 0.3351 - accuracy: 0.8630\n",
            "Epoch 79/200\n",
            "667/667 [==============================] - 1s 2ms/step - loss: 0.3342 - accuracy: 0.8652\n",
            "Epoch 80/200\n",
            "667/667 [==============================] - 1s 2ms/step - loss: 0.3342 - accuracy: 0.8643\n",
            "Epoch 81/200\n",
            "667/667 [==============================] - 1s 2ms/step - loss: 0.3341 - accuracy: 0.8630\n",
            "Epoch 82/200\n",
            "667/667 [==============================] - 1s 2ms/step - loss: 0.3342 - accuracy: 0.8627\n",
            "Epoch 83/200\n",
            "667/667 [==============================] - 1s 2ms/step - loss: 0.3344 - accuracy: 0.8639\n",
            "Epoch 84/200\n",
            "667/667 [==============================] - 2s 2ms/step - loss: 0.3341 - accuracy: 0.8643\n",
            "Epoch 85/200\n",
            "667/667 [==============================] - 1s 2ms/step - loss: 0.3346 - accuracy: 0.8635\n",
            "Epoch 86/200\n",
            "667/667 [==============================] - 1s 2ms/step - loss: 0.3341 - accuracy: 0.8637\n",
            "Epoch 87/200\n",
            "667/667 [==============================] - 1s 2ms/step - loss: 0.3335 - accuracy: 0.8650\n",
            "Epoch 88/200\n",
            "667/667 [==============================] - 1s 2ms/step - loss: 0.3341 - accuracy: 0.8646\n",
            "Epoch 89/200\n",
            "667/667 [==============================] - 2s 2ms/step - loss: 0.3335 - accuracy: 0.8634\n",
            "Epoch 90/200\n",
            "667/667 [==============================] - 1s 2ms/step - loss: 0.3333 - accuracy: 0.8675\n",
            "Epoch 91/200\n",
            "667/667 [==============================] - 2s 2ms/step - loss: 0.3334 - accuracy: 0.8633\n",
            "Epoch 92/200\n",
            "667/667 [==============================] - 1s 2ms/step - loss: 0.3336 - accuracy: 0.8637\n",
            "Epoch 93/200\n",
            "667/667 [==============================] - 1s 2ms/step - loss: 0.3328 - accuracy: 0.8654\n",
            "Epoch 94/200\n",
            "667/667 [==============================] - 1s 2ms/step - loss: 0.3332 - accuracy: 0.8644\n",
            "Epoch 95/200\n",
            "667/667 [==============================] - 1s 2ms/step - loss: 0.3329 - accuracy: 0.8652\n",
            "Epoch 96/200\n",
            "667/667 [==============================] - 1s 2ms/step - loss: 0.3336 - accuracy: 0.8648\n",
            "Epoch 97/200\n",
            "667/667 [==============================] - 1s 2ms/step - loss: 0.3330 - accuracy: 0.8640\n",
            "Epoch 98/200\n",
            "667/667 [==============================] - 1s 2ms/step - loss: 0.3328 - accuracy: 0.8644\n",
            "Epoch 99/200\n",
            "667/667 [==============================] - 1s 2ms/step - loss: 0.3321 - accuracy: 0.8649\n",
            "Epoch 100/200\n",
            "667/667 [==============================] - 2s 2ms/step - loss: 0.3330 - accuracy: 0.8640\n",
            "Epoch 101/200\n",
            "667/667 [==============================] - 1s 2ms/step - loss: 0.3324 - accuracy: 0.8644\n",
            "Epoch 102/200\n",
            "667/667 [==============================] - 1s 2ms/step - loss: 0.3332 - accuracy: 0.8651\n",
            "Epoch 103/200\n",
            "667/667 [==============================] - 2s 2ms/step - loss: 0.3326 - accuracy: 0.8656\n",
            "Epoch 104/200\n",
            "667/667 [==============================] - 1s 2ms/step - loss: 0.3328 - accuracy: 0.8655\n",
            "Epoch 105/200\n",
            "667/667 [==============================] - 1s 2ms/step - loss: 0.3324 - accuracy: 0.8669\n",
            "Epoch 106/200\n",
            "667/667 [==============================] - 2s 2ms/step - loss: 0.3323 - accuracy: 0.8648\n",
            "Epoch 107/200\n",
            "667/667 [==============================] - 2s 2ms/step - loss: 0.3319 - accuracy: 0.8646\n",
            "Epoch 108/200\n",
            "667/667 [==============================] - 1s 2ms/step - loss: 0.3323 - accuracy: 0.8662\n",
            "Epoch 109/200\n",
            "667/667 [==============================] - 2s 2ms/step - loss: 0.3315 - accuracy: 0.8664\n",
            "Epoch 110/200\n",
            "667/667 [==============================] - 2s 2ms/step - loss: 0.3325 - accuracy: 0.8640\n",
            "Epoch 111/200\n",
            "667/667 [==============================] - 1s 2ms/step - loss: 0.3317 - accuracy: 0.8630\n",
            "Epoch 112/200\n",
            "667/667 [==============================] - 1s 2ms/step - loss: 0.3303 - accuracy: 0.8676\n",
            "Epoch 113/200\n",
            "667/667 [==============================] - 1s 2ms/step - loss: 0.3309 - accuracy: 0.8661\n",
            "Epoch 114/200\n",
            "667/667 [==============================] - 1s 2ms/step - loss: 0.3315 - accuracy: 0.8671\n",
            "Epoch 115/200\n",
            "667/667 [==============================] - 1s 2ms/step - loss: 0.3312 - accuracy: 0.8659\n",
            "Epoch 116/200\n",
            "667/667 [==============================] - 1s 2ms/step - loss: 0.3299 - accuracy: 0.8655\n",
            "Epoch 117/200\n",
            "667/667 [==============================] - 2s 2ms/step - loss: 0.3306 - accuracy: 0.8659\n",
            "Epoch 118/200\n",
            "667/667 [==============================] - 1s 2ms/step - loss: 0.3306 - accuracy: 0.8650\n",
            "Epoch 119/200\n",
            "667/667 [==============================] - 1s 2ms/step - loss: 0.3306 - accuracy: 0.8648\n",
            "Epoch 120/200\n",
            "667/667 [==============================] - 1s 2ms/step - loss: 0.3303 - accuracy: 0.8652\n",
            "Epoch 121/200\n",
            "667/667 [==============================] - 1s 2ms/step - loss: 0.3301 - accuracy: 0.8669\n",
            "Epoch 122/200\n",
            "667/667 [==============================] - 1s 2ms/step - loss: 0.3301 - accuracy: 0.8660\n",
            "Epoch 123/200\n",
            "667/667 [==============================] - 1s 2ms/step - loss: 0.3303 - accuracy: 0.8660\n",
            "Epoch 124/200\n",
            "667/667 [==============================] - 1s 2ms/step - loss: 0.3301 - accuracy: 0.8660\n",
            "Epoch 125/200\n",
            "667/667 [==============================] - 2s 2ms/step - loss: 0.3299 - accuracy: 0.8662\n",
            "Epoch 126/200\n",
            "667/667 [==============================] - 1s 2ms/step - loss: 0.3307 - accuracy: 0.8646\n",
            "Epoch 127/200\n",
            "667/667 [==============================] - 1s 2ms/step - loss: 0.3295 - accuracy: 0.8669\n",
            "Epoch 128/200\n",
            "667/667 [==============================] - 1s 2ms/step - loss: 0.3301 - accuracy: 0.8674\n",
            "Epoch 129/200\n",
            "667/667 [==============================] - 1s 2ms/step - loss: 0.3294 - accuracy: 0.8665\n",
            "Epoch 130/200\n",
            "667/667 [==============================] - 1s 2ms/step - loss: 0.3306 - accuracy: 0.8661\n",
            "Epoch 131/200\n",
            "667/667 [==============================] - 1s 2ms/step - loss: 0.3302 - accuracy: 0.8651\n",
            "Epoch 132/200\n",
            "667/667 [==============================] - 2s 3ms/step - loss: 0.3295 - accuracy: 0.8646\n",
            "Epoch 133/200\n",
            "667/667 [==============================] - 1s 2ms/step - loss: 0.3292 - accuracy: 0.8658\n",
            "Epoch 134/200\n",
            "667/667 [==============================] - 1s 2ms/step - loss: 0.3298 - accuracy: 0.8669\n",
            "Epoch 135/200\n",
            "667/667 [==============================] - 2s 3ms/step - loss: 0.3294 - accuracy: 0.8674\n",
            "Epoch 136/200\n",
            "667/667 [==============================] - 2s 3ms/step - loss: 0.3300 - accuracy: 0.8669\n",
            "Epoch 137/200\n",
            "667/667 [==============================] - 1s 2ms/step - loss: 0.3290 - accuracy: 0.8674\n",
            "Epoch 138/200\n",
            "667/667 [==============================] - 1s 2ms/step - loss: 0.3295 - accuracy: 0.8654\n",
            "Epoch 139/200\n",
            "667/667 [==============================] - 1s 2ms/step - loss: 0.3301 - accuracy: 0.8649\n",
            "Epoch 140/200\n",
            "667/667 [==============================] - 1s 2ms/step - loss: 0.3293 - accuracy: 0.8676\n",
            "Epoch 141/200\n",
            "667/667 [==============================] - 1s 2ms/step - loss: 0.3295 - accuracy: 0.8670\n",
            "Epoch 142/200\n",
            "667/667 [==============================] - 1s 2ms/step - loss: 0.3287 - accuracy: 0.8656\n",
            "Epoch 143/200\n",
            "667/667 [==============================] - 1s 2ms/step - loss: 0.3295 - accuracy: 0.8687\n",
            "Epoch 144/200\n",
            "667/667 [==============================] - 2s 2ms/step - loss: 0.3294 - accuracy: 0.8660\n",
            "Epoch 145/200\n",
            "667/667 [==============================] - 2s 2ms/step - loss: 0.3294 - accuracy: 0.8670\n",
            "Epoch 146/200\n",
            "667/667 [==============================] - 1s 2ms/step - loss: 0.3300 - accuracy: 0.8671\n",
            "Epoch 147/200\n",
            "667/667 [==============================] - 1s 2ms/step - loss: 0.3292 - accuracy: 0.8665\n",
            "Epoch 148/200\n",
            "667/667 [==============================] - 1s 2ms/step - loss: 0.3287 - accuracy: 0.8674\n",
            "Epoch 149/200\n",
            "667/667 [==============================] - 1s 2ms/step - loss: 0.3288 - accuracy: 0.8673\n",
            "Epoch 150/200\n",
            "667/667 [==============================] - 1s 2ms/step - loss: 0.3293 - accuracy: 0.8658\n",
            "Epoch 151/200\n",
            "667/667 [==============================] - 1s 2ms/step - loss: 0.3290 - accuracy: 0.8671\n",
            "Epoch 152/200\n",
            "667/667 [==============================] - 1s 2ms/step - loss: 0.3292 - accuracy: 0.8664\n",
            "Epoch 153/200\n",
            "667/667 [==============================] - 1s 2ms/step - loss: 0.3289 - accuracy: 0.8665\n",
            "Epoch 154/200\n",
            "667/667 [==============================] - 1s 2ms/step - loss: 0.3294 - accuracy: 0.8668\n",
            "Epoch 155/200\n",
            "667/667 [==============================] - 1s 2ms/step - loss: 0.3291 - accuracy: 0.8648\n",
            "Epoch 156/200\n",
            "667/667 [==============================] - 2s 2ms/step - loss: 0.3295 - accuracy: 0.8676\n",
            "Epoch 157/200\n",
            "667/667 [==============================] - 1s 2ms/step - loss: 0.3295 - accuracy: 0.8671\n",
            "Epoch 158/200\n",
            "667/667 [==============================] - 1s 2ms/step - loss: 0.3301 - accuracy: 0.8658\n",
            "Epoch 159/200\n",
            "667/667 [==============================] - 2s 2ms/step - loss: 0.3291 - accuracy: 0.8656\n",
            "Epoch 160/200\n",
            "667/667 [==============================] - 1s 2ms/step - loss: 0.3296 - accuracy: 0.8659\n",
            "Epoch 161/200\n",
            "667/667 [==============================] - 1s 2ms/step - loss: 0.3291 - accuracy: 0.8661\n",
            "Epoch 162/200\n",
            "667/667 [==============================] - 2s 2ms/step - loss: 0.3294 - accuracy: 0.8676\n",
            "Epoch 163/200\n",
            "667/667 [==============================] - 2s 2ms/step - loss: 0.3295 - accuracy: 0.8665\n",
            "Epoch 164/200\n",
            "667/667 [==============================] - 2s 2ms/step - loss: 0.3293 - accuracy: 0.8671\n",
            "Epoch 165/200\n",
            "667/667 [==============================] - 2s 2ms/step - loss: 0.3287 - accuracy: 0.8683\n",
            "Epoch 166/200\n",
            "667/667 [==============================] - 1s 2ms/step - loss: 0.3284 - accuracy: 0.8666\n",
            "Epoch 167/200\n",
            "667/667 [==============================] - 2s 2ms/step - loss: 0.3291 - accuracy: 0.8683\n",
            "Epoch 168/200\n",
            "667/667 [==============================] - 2s 2ms/step - loss: 0.3290 - accuracy: 0.8664\n",
            "Epoch 169/200\n",
            "667/667 [==============================] - 2s 2ms/step - loss: 0.3295 - accuracy: 0.8689\n",
            "Epoch 170/200\n",
            "667/667 [==============================] - 1s 2ms/step - loss: 0.3291 - accuracy: 0.8671\n",
            "Epoch 171/200\n",
            "667/667 [==============================] - 1s 2ms/step - loss: 0.3291 - accuracy: 0.8658\n",
            "Epoch 172/200\n",
            "667/667 [==============================] - 2s 2ms/step - loss: 0.3299 - accuracy: 0.8662\n",
            "Epoch 173/200\n",
            "667/667 [==============================] - 1s 2ms/step - loss: 0.3286 - accuracy: 0.8689\n",
            "Epoch 174/200\n",
            "667/667 [==============================] - 2s 2ms/step - loss: 0.3289 - accuracy: 0.8671\n",
            "Epoch 175/200\n",
            "667/667 [==============================] - 1s 2ms/step - loss: 0.3292 - accuracy: 0.8641\n",
            "Epoch 176/200\n",
            "667/667 [==============================] - 1s 2ms/step - loss: 0.3285 - accuracy: 0.8683\n",
            "Epoch 177/200\n",
            "667/667 [==============================] - 1s 2ms/step - loss: 0.3285 - accuracy: 0.8668\n",
            "Epoch 178/200\n",
            "667/667 [==============================] - 2s 2ms/step - loss: 0.3291 - accuracy: 0.8679\n",
            "Epoch 179/200\n",
            "667/667 [==============================] - 2s 2ms/step - loss: 0.3290 - accuracy: 0.8662\n",
            "Epoch 180/200\n",
            "667/667 [==============================] - 2s 2ms/step - loss: 0.3289 - accuracy: 0.8670\n",
            "Epoch 181/200\n",
            "667/667 [==============================] - 1s 2ms/step - loss: 0.3292 - accuracy: 0.8644\n",
            "Epoch 182/200\n",
            "667/667 [==============================] - 2s 2ms/step - loss: 0.3281 - accuracy: 0.8665\n",
            "Epoch 183/200\n",
            "667/667 [==============================] - 2s 2ms/step - loss: 0.3280 - accuracy: 0.8660\n",
            "Epoch 184/200\n",
            "667/667 [==============================] - 2s 2ms/step - loss: 0.3282 - accuracy: 0.8651\n",
            "Epoch 185/200\n",
            "667/667 [==============================] - 2s 2ms/step - loss: 0.3291 - accuracy: 0.8659\n",
            "Epoch 186/200\n",
            "667/667 [==============================] - 2s 2ms/step - loss: 0.3291 - accuracy: 0.8665\n",
            "Epoch 187/200\n",
            "667/667 [==============================] - 1s 2ms/step - loss: 0.3284 - accuracy: 0.8664\n",
            "Epoch 188/200\n",
            "667/667 [==============================] - 2s 2ms/step - loss: 0.3292 - accuracy: 0.8660\n",
            "Epoch 189/200\n",
            "667/667 [==============================] - 2s 2ms/step - loss: 0.3283 - accuracy: 0.8650\n",
            "Epoch 190/200\n",
            "667/667 [==============================] - 2s 2ms/step - loss: 0.3283 - accuracy: 0.8654\n",
            "Epoch 191/200\n",
            "667/667 [==============================] - 2s 2ms/step - loss: 0.3284 - accuracy: 0.8687\n",
            "Epoch 192/200\n",
            "667/667 [==============================] - 1s 2ms/step - loss: 0.3282 - accuracy: 0.8668\n",
            "Epoch 193/200\n",
            "667/667 [==============================] - 2s 2ms/step - loss: 0.3285 - accuracy: 0.8666\n",
            "Epoch 194/200\n",
            "667/667 [==============================] - 2s 2ms/step - loss: 0.3284 - accuracy: 0.8656\n",
            "Epoch 195/200\n",
            "667/667 [==============================] - 2s 2ms/step - loss: 0.3287 - accuracy: 0.8661\n",
            "Epoch 196/200\n",
            "667/667 [==============================] - 2s 2ms/step - loss: 0.3282 - accuracy: 0.8659\n",
            "Epoch 197/200\n",
            "667/667 [==============================] - 2s 2ms/step - loss: 0.3282 - accuracy: 0.8664\n",
            "Epoch 198/200\n",
            "667/667 [==============================] - 1s 2ms/step - loss: 0.3284 - accuracy: 0.8661\n",
            "Epoch 199/200\n",
            "667/667 [==============================] - 2s 2ms/step - loss: 0.3285 - accuracy: 0.8662\n",
            "Epoch 200/200\n",
            "667/667 [==============================] - 2s 2ms/step - loss: 0.3285 - accuracy: 0.8671\n"
          ]
        },
        {
          "output_type": "execute_result",
          "data": {
            "text/plain": [
              "<keras.callbacks.History at 0x7fbc0e53a510>"
            ]
          },
          "metadata": {},
          "execution_count": 32
        }
      ]
    },
    {
      "cell_type": "markdown",
      "metadata": {
        "id": "tJj5k2MxZga3"
      },
      "source": [
        "## Part 4 - Making the predictions and evaluating the model"
      ]
    },
    {
      "cell_type": "markdown",
      "metadata": {
        "id": "84QFoqGYeXHL"
      },
      "source": [
        "### Predicting the result of a single observation"
      ]
    },
    {
      "cell_type": "markdown",
      "metadata": {
        "id": "CGRo3eacgDdC"
      },
      "source": [
        "**Homework**\n",
        "\n",
        "Use our ANN model to predict if the customer with the following informations will leave the bank: \n",
        "\n",
        "Geography: France\n",
        "\n",
        "Credit Score: 600\n",
        "\n",
        "Gender: Male\n",
        "\n",
        "Age: 40 years old\n",
        "\n",
        "Tenure: 3 years\n",
        "\n",
        "Balance: \\$ 60000\n",
        "\n",
        "Number of Products: 2\n",
        "\n",
        "Does this customer have a credit card? Yes\n",
        "\n",
        "Is this customer an Active Member: Yes\n",
        "\n",
        "Estimated Salary: \\$ 50000\n",
        "\n",
        "So, should we say goodbye to that customer?"
      ]
    },
    {
      "cell_type": "markdown",
      "metadata": {
        "id": "ZhU1LTgPg-kH"
      },
      "source": [
        "**Solution**"
      ]
    },
    {
      "cell_type": "code",
      "metadata": {
        "id": "2d8IoCCkeWGL",
        "outputId": "19b7291b-0791-4a42-9769-df4724a59ddd",
        "colab": {
          "base_uri": "https://localhost:8080/"
        }
      },
      "source": [
        "print(ann.predict(sc.transform([[1, 0, 0, 600, 1, 40, 3, 60000, 2, 1, 1, 50000]])) > 0.5)"
      ],
      "execution_count": 30,
      "outputs": [
        {
          "output_type": "stream",
          "name": "stdout",
          "text": [
            "[[False]]\n"
          ]
        }
      ]
    },
    {
      "cell_type": "markdown",
      "metadata": {
        "id": "wGjx94g2n7OV"
      },
      "source": [
        "Therefore, our ANN model predicts that this customer stays in the bank!\n",
        "\n",
        "**Important note 1:** Notice that the values of the features were all input in a double pair of square brackets. That's because the \"predict\" method always expects a 2D array as the format of its inputs. And putting our values into a double pair of square brackets makes the input exactly a 2D array.\n",
        "\n",
        "**Important note 2:** Notice also that the \"France\" country was not input as a string in the last column but as \"1, 0, 0\" in the first three columns. That's because of course the predict method expects the one-hot-encoded values of the state, and as we see in the first row of the matrix of features X, \"France\" was encoded as \"1, 0, 0\". And be careful to include these values in the first three columns, because the dummy variables are always created in the first columns."
      ]
    },
    {
      "cell_type": "markdown",
      "metadata": {
        "id": "u7yx47jPZt11"
      },
      "source": [
        "### Predicting the Test set results"
      ]
    },
    {
      "cell_type": "code",
      "metadata": {
        "id": "nIyEeQdRZwgs",
        "outputId": "52973bfd-8398-4316-d5af-04c0da365111",
        "colab": {
          "base_uri": "https://localhost:8080/"
        }
      },
      "source": [
        "y_pred = ann.predict(X_test)\n",
        "y_pred = (y_pred > 0.5)\n",
        "print(np.concatenate((y_pred.reshape(len(y_pred),1), y_test.reshape(len(y_test),1)),1))"
      ],
      "execution_count": 23,
      "outputs": [
        {
          "output_type": "stream",
          "name": "stdout",
          "text": [
            "[[0 0]\n",
            " [0 1]\n",
            " [0 0]\n",
            " ...\n",
            " [0 0]\n",
            " [0 0]\n",
            " [0 0]]\n"
          ]
        }
      ]
    },
    {
      "cell_type": "markdown",
      "metadata": {
        "id": "o0oyfLWoaEGw"
      },
      "source": [
        "### Making the Confusion Matrix"
      ]
    },
    {
      "cell_type": "code",
      "metadata": {
        "id": "ci6K_r6LaF6P",
        "outputId": "07d4d9e8-c1a6-4552-852e-f090388a434d",
        "colab": {
          "base_uri": "https://localhost:8080/"
        }
      },
      "source": [
        "from sklearn.metrics import confusion_matrix, accuracy_score\n",
        "cm = confusion_matrix(y_test, y_pred)\n",
        "print(cm)\n",
        "accuracy_score(y_test, y_pred)"
      ],
      "execution_count": 24,
      "outputs": [
        {
          "output_type": "stream",
          "name": "stdout",
          "text": [
            "[[1511   84]\n",
            " [ 192  213]]\n"
          ]
        },
        {
          "output_type": "execute_result",
          "data": {
            "text/plain": [
              "0.862"
            ]
          },
          "metadata": {},
          "execution_count": 24
        }
      ]
    }
  ]
}